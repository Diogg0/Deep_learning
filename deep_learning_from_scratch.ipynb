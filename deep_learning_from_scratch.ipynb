{
  "metadata": {
    "kernelspec": {
      "language": "python",
      "display_name": "Python 3",
      "name": "python3"
    },
    "language_info": {
      "name": "python",
      "version": "3.10.12",
      "mimetype": "text/x-python",
      "codemirror_mode": {
        "name": "ipython",
        "version": 3
      },
      "pygments_lexer": "ipython3",
      "nbconvert_exporter": "python",
      "file_extension": ".py"
    },
    "colab": {
      "provenance": [],
      "include_colab_link": true
    }
  },
  "nbformat_minor": 0,
  "nbformat": 4,
  "cells": [
    {
      "cell_type": "markdown",
      "metadata": {
        "id": "view-in-github",
        "colab_type": "text"
      },
      "source": [
        "<a href=\"https://colab.research.google.com/github/Diogg0/Deep_learning/blob/main/deep_learning_from_scratch.ipynb\" target=\"_parent\"><img src=\"https://colab.research.google.com/assets/colab-badge.svg\" alt=\"Open In Colab\"/></a>"
      ]
    },
    {
      "cell_type": "markdown",
      "source": [
        "# Deep learning using math\n",
        "**This is an implementation of neural network to predict the value from a 28*28 image representing a digit**\n"
      ],
      "metadata": {
        "id": "3tt3rU3dGka6"
      }
    },
    {
      "cell_type": "markdown",
      "source": [
        "**Basic libraries are used as it saves time since these functions are easy to implement and dont require explanation**"
      ],
      "metadata": {
        "id": "4yJ5omxzGrUO"
      }
    },
    {
      "cell_type": "code",
      "source": [
        "import numpy as np\n",
        "import pandas as pd"
      ],
      "metadata": {
        "execution": {
          "iopub.status.busy": "2023-08-04T06:08:41.286724Z",
          "iopub.execute_input": "2023-08-04T06:08:41.287083Z",
          "iopub.status.idle": "2023-08-04T06:08:41.296561Z",
          "shell.execute_reply.started": "2023-08-04T06:08:41.287053Z",
          "shell.execute_reply": "2023-08-04T06:08:41.295661Z"
        },
        "trusted": true,
        "id": "h7T2DL3zGka9"
      },
      "execution_count": null,
      "outputs": []
    },
    {
      "cell_type": "markdown",
      "source": [
        "# Dataset\n",
        "**The dataset contains 785 pixel values of digits ranging from 0 to 10**"
      ],
      "metadata": {
        "id": "3PNEP7LaGka-"
      }
    },
    {
      "cell_type": "code",
      "source": [
        "data = pd.read_csv(\"train.csv\")\n",
        "data.head()"
      ],
      "metadata": {
        "execution": {
          "iopub.status.busy": "2023-08-04T06:08:41.297690Z",
          "iopub.execute_input": "2023-08-04T06:08:41.298528Z",
          "iopub.status.idle": "2023-08-04T06:08:44.517222Z",
          "shell.execute_reply.started": "2023-08-04T06:08:41.298497Z",
          "shell.execute_reply": "2023-08-04T06:08:44.515830Z"
        },
        "trusted": true,
        "id": "pJ8DNlvxGka-",
        "outputId": "46236d04-b7a1-4658-ef58-1de508e7b71d"
      },
      "execution_count": null,
      "outputs": [
        {
          "execution_count": 25,
          "output_type": "execute_result",
          "data": {
            "text/plain": "   label  pixel0  pixel1  pixel2  pixel3  pixel4  pixel5  pixel6  pixel7  \\\n0      1       0       0       0       0       0       0       0       0   \n1      0       0       0       0       0       0       0       0       0   \n2      1       0       0       0       0       0       0       0       0   \n3      4       0       0       0       0       0       0       0       0   \n4      0       0       0       0       0       0       0       0       0   \n\n   pixel8  ...  pixel774  pixel775  pixel776  pixel777  pixel778  pixel779  \\\n0       0  ...         0         0         0         0         0         0   \n1       0  ...         0         0         0         0         0         0   \n2       0  ...         0         0         0         0         0         0   \n3       0  ...         0         0         0         0         0         0   \n4       0  ...         0         0         0         0         0         0   \n\n   pixel780  pixel781  pixel782  pixel783  \n0         0         0         0         0  \n1         0         0         0         0  \n2         0         0         0         0  \n3         0         0         0         0  \n4         0         0         0         0  \n\n[5 rows x 785 columns]",
            "text/html": "<div>\n<style scoped>\n    .dataframe tbody tr th:only-of-type {\n        vertical-align: middle;\n    }\n\n    .dataframe tbody tr th {\n        vertical-align: top;\n    }\n\n    .dataframe thead th {\n        text-align: right;\n    }\n</style>\n<table border=\"1\" class=\"dataframe\">\n  <thead>\n    <tr style=\"text-align: right;\">\n      <th></th>\n      <th>label</th>\n      <th>pixel0</th>\n      <th>pixel1</th>\n      <th>pixel2</th>\n      <th>pixel3</th>\n      <th>pixel4</th>\n      <th>pixel5</th>\n      <th>pixel6</th>\n      <th>pixel7</th>\n      <th>pixel8</th>\n      <th>...</th>\n      <th>pixel774</th>\n      <th>pixel775</th>\n      <th>pixel776</th>\n      <th>pixel777</th>\n      <th>pixel778</th>\n      <th>pixel779</th>\n      <th>pixel780</th>\n      <th>pixel781</th>\n      <th>pixel782</th>\n      <th>pixel783</th>\n    </tr>\n  </thead>\n  <tbody>\n    <tr>\n      <th>0</th>\n      <td>1</td>\n      <td>0</td>\n      <td>0</td>\n      <td>0</td>\n      <td>0</td>\n      <td>0</td>\n      <td>0</td>\n      <td>0</td>\n      <td>0</td>\n      <td>0</td>\n      <td>...</td>\n      <td>0</td>\n      <td>0</td>\n      <td>0</td>\n      <td>0</td>\n      <td>0</td>\n      <td>0</td>\n      <td>0</td>\n      <td>0</td>\n      <td>0</td>\n      <td>0</td>\n    </tr>\n    <tr>\n      <th>1</th>\n      <td>0</td>\n      <td>0</td>\n      <td>0</td>\n      <td>0</td>\n      <td>0</td>\n      <td>0</td>\n      <td>0</td>\n      <td>0</td>\n      <td>0</td>\n      <td>0</td>\n      <td>...</td>\n      <td>0</td>\n      <td>0</td>\n      <td>0</td>\n      <td>0</td>\n      <td>0</td>\n      <td>0</td>\n      <td>0</td>\n      <td>0</td>\n      <td>0</td>\n      <td>0</td>\n    </tr>\n    <tr>\n      <th>2</th>\n      <td>1</td>\n      <td>0</td>\n      <td>0</td>\n      <td>0</td>\n      <td>0</td>\n      <td>0</td>\n      <td>0</td>\n      <td>0</td>\n      <td>0</td>\n      <td>0</td>\n      <td>...</td>\n      <td>0</td>\n      <td>0</td>\n      <td>0</td>\n      <td>0</td>\n      <td>0</td>\n      <td>0</td>\n      <td>0</td>\n      <td>0</td>\n      <td>0</td>\n      <td>0</td>\n    </tr>\n    <tr>\n      <th>3</th>\n      <td>4</td>\n      <td>0</td>\n      <td>0</td>\n      <td>0</td>\n      <td>0</td>\n      <td>0</td>\n      <td>0</td>\n      <td>0</td>\n      <td>0</td>\n      <td>0</td>\n      <td>...</td>\n      <td>0</td>\n      <td>0</td>\n      <td>0</td>\n      <td>0</td>\n      <td>0</td>\n      <td>0</td>\n      <td>0</td>\n      <td>0</td>\n      <td>0</td>\n      <td>0</td>\n    </tr>\n    <tr>\n      <th>4</th>\n      <td>0</td>\n      <td>0</td>\n      <td>0</td>\n      <td>0</td>\n      <td>0</td>\n      <td>0</td>\n      <td>0</td>\n      <td>0</td>\n      <td>0</td>\n      <td>0</td>\n      <td>...</td>\n      <td>0</td>\n      <td>0</td>\n      <td>0</td>\n      <td>0</td>\n      <td>0</td>\n      <td>0</td>\n      <td>0</td>\n      <td>0</td>\n      <td>0</td>\n      <td>0</td>\n    </tr>\n  </tbody>\n</table>\n<p>5 rows × 785 columns</p>\n</div>"
          },
          "metadata": {}
        }
      ]
    },
    {
      "cell_type": "markdown",
      "source": [
        "# Initializing of data"
      ],
      "metadata": {
        "id": "cUa9WFQAGka_"
      }
    },
    {
      "cell_type": "code",
      "source": [
        "data = np.array(data)\n",
        "rows,cols = data.shape\n",
        "np.random.shuffle(data)\n",
        "\n",
        "data_dev = data[0:1000].T\n",
        "Y_dev = data[0]\n",
        "X_dev = data[1:cols]\n",
        "X_dev = X_dev/255.\n",
        "\n",
        "data_train = data[1000:rows].T\n",
        "Y_train = data_train[0]\n",
        "X_train = data_train[1:cols]\n",
        "X_train = X_train/ 255.\n"
      ],
      "metadata": {
        "execution": {
          "iopub.status.busy": "2023-08-04T06:24:42.404922Z",
          "iopub.execute_input": "2023-08-04T06:24:42.405308Z",
          "iopub.status.idle": "2023-08-04T06:24:43.218007Z",
          "shell.execute_reply.started": "2023-08-04T06:24:42.405277Z",
          "shell.execute_reply": "2023-08-04T06:24:43.216861Z"
        },
        "trusted": true,
        "id": "S27EfXU8Gka_"
      },
      "execution_count": null,
      "outputs": []
    },
    {
      "cell_type": "markdown",
      "source": [
        "# Fundamental Functions to shift weights and biases\n",
        "**This neural network has 1 input layer, 1 hidden layer using ReLu activation function and 1 output layer using SoftMax function.Forward and backward propagation are defined in this block, at the start all weights and biases are defined randomly**"
      ],
      "metadata": {
        "id": "O2oixznIGkbA"
      }
    },
    {
      "cell_type": "code",
      "source": [
        "def initialize():\n",
        "    w1 = np.random.rand(10,784) - 0.5\n",
        "    b1 = np.random.rand(10,1) - 0.5\n",
        "    w2 = np.random.rand(10,10) - 0.5\n",
        "    b2 = np.random.rand(10,1) - 0.5\n",
        "\n",
        "    return w1,b1,w2,b2\n",
        "\n",
        "def ReLu(Z):\n",
        "    return np.maximum(Z,0)\n",
        "\n",
        "def SoftMax(Z):\n",
        "    res = np.exp(Z)/sum(np.exp(Z))\n",
        "    return res\n",
        "\n",
        "def ReLu_deriv(Z):\n",
        "    return Z > 0\n",
        "\n",
        "def OneHotEncode(Y):\n",
        "    one_hot = np.zeros((Y.size, 10))\n",
        "    one_hot[np.arange(Y.size), Y] = 1\n",
        "    return one_hot.T\n",
        "\n",
        "\n",
        "def forward_propagation(w1,b1,w2,b2,X):\n",
        "    z1 = w1.dot(X) + b1\n",
        "    a1 = ReLu(z1)\n",
        "    z2 = w2.dot(a1) + b2\n",
        "    a2 = SoftMax(z2)\n",
        "    return z1,a1,z2,a2\n",
        "\n",
        "def back_propagation(z1,a1,z2,a2,w1,w2,X,Y):\n",
        "    one_hot_Y = OneHotEncode(Y)\n",
        "    dZ2 = a2 - one_hot_Y\n",
        "    dW2 = 1/rows * dZ2.dot(a1.T)\n",
        "    db2 = 1/rows * np.sum(dZ2)\n",
        "    dZ1 = w2.T.dot(dZ2) * ReLu_deriv(z1)\n",
        "\n",
        "    dW1 = 1/rows * dZ1.dot(X.T)\n",
        "    db1 = 1/rows * np.sum(dZ1)\n",
        "    return dW1, db1, dW2, db2\n",
        "def update(W1,b1,W2,b2,dW1,db1,dW2,db2,alpha):\n",
        "    W1 -=alpha * dW1\n",
        "    b1 -= alpha * db1\n",
        "    W2 -= alpha * dW2\n",
        "    b2 -= alpha * db2\n",
        "\n",
        "    return W1,b1,W2,b2"
      ],
      "metadata": {
        "execution": {
          "iopub.status.busy": "2023-08-04T06:18:28.493539Z",
          "iopub.execute_input": "2023-08-04T06:18:28.494080Z",
          "iopub.status.idle": "2023-08-04T06:18:28.511900Z",
          "shell.execute_reply.started": "2023-08-04T06:18:28.494037Z",
          "shell.execute_reply": "2023-08-04T06:18:28.510313Z"
        },
        "trusted": true,
        "id": "maEIsN4RGkbA"
      },
      "execution_count": null,
      "outputs": []
    },
    {
      "cell_type": "markdown",
      "source": [
        "# Gradient Descent\n",
        "**Gradien descent is defined by initialising the weights and biases and performing forward and backward propagation given number of times**"
      ],
      "metadata": {
        "id": "dDkE3x7zGkbA"
      }
    },
    {
      "cell_type": "code",
      "source": [
        "def get_predict(A2):\n",
        "    return np.argmax(A2,0)\n",
        "\n",
        "def accuracy(predictions,Y):\n",
        "    print(predictions, Y)\n",
        "    return np.sum(predictions == Y)/Y.size\n",
        "\n",
        "def gradient_descent(X,Y, alpha, epoch):\n",
        "    print(\"Gradient descent has been called\")\n",
        "    W1,b1,W2,b2 = initialize()\n",
        "    for i in range(epoch):\n",
        "        Z1, A1, Z2, A2 = forward_propagation(W1,b1,W2,b2,X)\n",
        "        dW1,db1,dW2,db2 = back_propagation(Z1,A1,Z2,A2,W1,W2,X,Y)\n",
        "        W1,b1,W2,b2 = update(W1,b1,W2,b2,dW1,db1,dW2,db2,alpha)\n",
        "\n",
        "        if i % 10 == 0:\n",
        "            print(f\"Epoch:{i} \")\n",
        "            predictions = predict(A2)\n",
        "            print(accuracy(predictions,Y))\n",
        "    return W1,b1,W2,b2"
      ],
      "metadata": {
        "execution": {
          "iopub.status.busy": "2023-08-04T06:32:35.255244Z",
          "iopub.execute_input": "2023-08-04T06:32:35.255660Z",
          "iopub.status.idle": "2023-08-04T06:32:35.265669Z",
          "shell.execute_reply.started": "2023-08-04T06:32:35.255626Z",
          "shell.execute_reply": "2023-08-04T06:32:35.264416Z"
        },
        "trusted": true,
        "id": "Nna4GFGfGkbB"
      },
      "execution_count": null,
      "outputs": []
    },
    {
      "cell_type": "code",
      "source": [
        "W1,b1,W2,b2 = gradient_descent(X_train,Y_train, 0.20, 500)"
      ],
      "metadata": {
        "execution": {
          "iopub.status.busy": "2023-08-04T06:24:53.032725Z",
          "iopub.execute_input": "2023-08-04T06:24:53.033122Z",
          "iopub.status.idle": "2023-08-04T06:26:06.230115Z",
          "shell.execute_reply.started": "2023-08-04T06:24:53.033093Z",
          "shell.execute_reply": "2023-08-04T06:26:06.228447Z"
        },
        "trusted": true,
        "id": "lhjcqW2UGkbB",
        "outputId": "e7f8ff89-278c-4cd5-a89d-d1835445f65b"
      },
      "execution_count": null,
      "outputs": [
        {
          "name": "stdout",
          "text": "Gradient descent has been called\nEpoch:0 \n[5 0 0 ... 0 5 0] [7 2 0 ... 3 1 1]\n0.10902439024390244\nEpoch:10 \n[2 8 0 ... 7 6 1] [7 2 0 ... 3 1 1]\n0.2955853658536585\nEpoch:20 \n[6 8 0 ... 3 1 1] [7 2 0 ... 3 1 1]\n0.409390243902439\nEpoch:30 \n[6 8 0 ... 3 1 1] [7 2 0 ... 3 1 1]\n0.4840243902439024\nEpoch:40 \n[6 8 0 ... 3 1 1] [7 2 0 ... 3 1 1]\n0.5478780487804878\nEpoch:50 \n[6 2 0 ... 3 1 1] [7 2 0 ... 3 1 1]\n0.6105121951219512\nEpoch:60 \n[9 2 0 ... 3 1 1] [7 2 0 ... 3 1 1]\n0.6633658536585366\nEpoch:70 \n[9 2 0 ... 3 1 1] [7 2 0 ... 3 1 1]\n0.7015853658536585\nEpoch:80 \n[9 2 0 ... 3 1 1] [7 2 0 ... 3 1 1]\n0.7281463414634146\nEpoch:90 \n[7 2 0 ... 3 1 1] [7 2 0 ... 3 1 1]\n0.7491707317073171\nEpoch:100 \n[7 2 0 ... 3 1 1] [7 2 0 ... 3 1 1]\n0.7658780487804878\nEpoch:110 \n[7 2 0 ... 3 1 1] [7 2 0 ... 3 1 1]\n0.7795853658536586\nEpoch:120 \n[7 2 0 ... 3 1 1] [7 2 0 ... 3 1 1]\n0.7919024390243903\nEpoch:130 \n[7 2 0 ... 3 1 1] [7 2 0 ... 3 1 1]\n0.8011707317073171\nEpoch:140 \n[7 2 0 ... 3 1 1] [7 2 0 ... 3 1 1]\n0.8087317073170732\nEpoch:150 \n[7 2 0 ... 3 1 1] [7 2 0 ... 3 1 1]\n0.8157317073170731\nEpoch:160 \n[7 2 0 ... 3 1 1] [7 2 0 ... 3 1 1]\n0.8204390243902439\nEpoch:170 \n[7 2 0 ... 3 1 1] [7 2 0 ... 3 1 1]\n0.8262926829268292\nEpoch:180 \n[7 2 0 ... 3 1 1] [7 2 0 ... 3 1 1]\n0.8305121951219512\nEpoch:190 \n[7 2 0 ... 3 1 1] [7 2 0 ... 3 1 1]\n0.8350487804878048\nEpoch:200 \n[7 2 0 ... 3 1 1] [7 2 0 ... 3 1 1]\n0.8393658536585366\nEpoch:210 \n[7 2 0 ... 3 1 1] [7 2 0 ... 3 1 1]\n0.8420731707317073\nEpoch:220 \n[7 2 0 ... 3 1 1] [7 2 0 ... 3 1 1]\n0.844609756097561\nEpoch:230 \n[7 2 0 ... 3 1 1] [7 2 0 ... 3 1 1]\n0.847780487804878\nEpoch:240 \n[7 2 0 ... 3 1 1] [7 2 0 ... 3 1 1]\n0.8504390243902439\nEpoch:250 \n[7 2 0 ... 3 1 1] [7 2 0 ... 3 1 1]\n0.8534634146341463\nEpoch:260 \n[7 2 0 ... 3 1 1] [7 2 0 ... 3 1 1]\n0.8560243902439024\nEpoch:270 \n[7 2 0 ... 3 1 1] [7 2 0 ... 3 1 1]\n0.8583170731707317\nEpoch:280 \n[7 2 0 ... 3 1 1] [7 2 0 ... 3 1 1]\n0.8599512195121951\nEpoch:290 \n[7 2 0 ... 3 1 1] [7 2 0 ... 3 1 1]\n0.8620975609756097\nEpoch:300 \n[7 2 0 ... 3 1 1] [7 2 0 ... 3 1 1]\n0.8634878048780488\nEpoch:310 \n[7 2 0 ... 3 1 1] [7 2 0 ... 3 1 1]\n0.8647317073170732\nEpoch:320 \n[7 2 0 ... 3 1 1] [7 2 0 ... 3 1 1]\n0.8660243902439024\nEpoch:330 \n[7 2 0 ... 3 1 1] [7 2 0 ... 3 1 1]\n0.8674878048780488\nEpoch:340 \n[7 2 0 ... 3 1 1] [7 2 0 ... 3 1 1]\n0.8687073170731707\nEpoch:350 \n[7 2 0 ... 3 1 1] [7 2 0 ... 3 1 1]\n0.8700731707317073\nEpoch:360 \n[7 2 0 ... 3 1 1] [7 2 0 ... 3 1 1]\n0.8714634146341463\nEpoch:370 \n[7 2 0 ... 3 1 1] [7 2 0 ... 3 1 1]\n0.8725853658536585\nEpoch:380 \n[7 2 0 ... 3 1 1] [7 2 0 ... 3 1 1]\n0.8735121951219512\nEpoch:390 \n[7 2 0 ... 3 1 1] [7 2 0 ... 3 1 1]\n0.874390243902439\nEpoch:400 \n[7 2 0 ... 3 1 1] [7 2 0 ... 3 1 1]\n0.8751463414634146\nEpoch:410 \n[7 2 0 ... 3 1 1] [7 2 0 ... 3 1 1]\n0.8759756097560976\nEpoch:420 \n[7 2 0 ... 3 1 1] [7 2 0 ... 3 1 1]\n0.8765609756097561\nEpoch:430 \n[7 2 0 ... 3 1 1] [7 2 0 ... 3 1 1]\n0.8775853658536585\nEpoch:440 \n[7 2 0 ... 3 1 1] [7 2 0 ... 3 1 1]\n0.8785853658536585\nEpoch:450 \n[7 2 0 ... 3 1 1] [7 2 0 ... 3 1 1]\n0.8793414634146342\nEpoch:460 \n[7 2 0 ... 3 1 1] [7 2 0 ... 3 1 1]\n0.8800487804878049\nEpoch:470 \n[7 2 0 ... 3 1 1] [7 2 0 ... 3 1 1]\n0.8808292682926829\nEpoch:480 \n[7 2 0 ... 3 1 1] [7 2 0 ... 3 1 1]\n0.8812926829268293\nEpoch:490 \n[7 2 0 ... 3 1 1] [7 2 0 ... 3 1 1]\n0.8819512195121951\n",
          "output_type": "stream"
        }
      ]
    },
    {
      "cell_type": "markdown",
      "source": [
        "# Prediction\n",
        "**Predict function is called here and predicted value is compared with the respective label**"
      ],
      "metadata": {
        "id": "KBZKFQJzGkbB"
      }
    },
    {
      "cell_type": "code",
      "source": [
        "from matplotlib import pyplot as plt\n",
        "\n",
        "def predict(X,W1,b1,W2,b2):\n",
        "    _,_,_,A2 = forward_propagation(W1,b1,W2,b2,X)\n",
        "    predictions = get_predict(A2)\n",
        "    return predictions\n",
        "\n",
        "def test_prediction(index,W1,b1,W2,b2):\n",
        "    current_image = X_train[:, index,None]\n",
        "    prediction = predict(X_train[:, index, None], W1,b1,W2,b2)\n",
        "    label = Y_train[index]\n",
        "    print(f\"Preidction:{prediction}\")\n",
        "    print(f\"Label:{label}\")\n",
        "\n",
        "    current_image = current_image.reshape((28,28)) * 255\n",
        "    plt.gray()\n",
        "    plt.imshow(current_image, interpolation='nearest')\n",
        "    plt.show()"
      ],
      "metadata": {
        "execution": {
          "iopub.status.busy": "2023-08-04T06:32:38.971078Z",
          "iopub.execute_input": "2023-08-04T06:32:38.971537Z",
          "iopub.status.idle": "2023-08-04T06:32:38.981000Z",
          "shell.execute_reply.started": "2023-08-04T06:32:38.971503Z",
          "shell.execute_reply": "2023-08-04T06:32:38.979805Z"
        },
        "trusted": true,
        "id": "gUQTbBxgGkbB"
      },
      "execution_count": null,
      "outputs": []
    },
    {
      "cell_type": "code",
      "source": [
        "test_prediction(9,W1,b1,W2,b2)\n",
        "test_prediction(2,W1,b1,W2,b2)\n",
        "test_prediction(11,W1,b1,W2,b2)\n",
        "test_prediction(20,W1,b1,W2,b2)"
      ],
      "metadata": {
        "execution": {
          "iopub.status.busy": "2023-08-04T06:41:22.895821Z",
          "iopub.execute_input": "2023-08-04T06:41:22.896292Z",
          "iopub.status.idle": "2023-08-04T06:41:23.892263Z",
          "shell.execute_reply.started": "2023-08-04T06:41:22.896257Z",
          "shell.execute_reply": "2023-08-04T06:41:23.891267Z"
        },
        "trusted": true,
        "id": "De4t0lWcGkbC",
        "outputId": "86ec8382-6e95-4ec3-e450-0a3480a38920"
      },
      "execution_count": null,
      "outputs": [
        {
          "name": "stdout",
          "text": "Preidction:[3]\nLabel:3\n",
          "output_type": "stream"
        },
        {
          "output_type": "display_data",
          "data": {
            "text/plain": "<Figure size 640x480 with 1 Axes>",
            "image/png": "[encoded data removed]"
          },
          "metadata": {}
        },
        {
          "name": "stdout",
          "text": "Preidction:[0]\nLabel:0\n",
          "output_type": "stream"
        },
        {
          "output_type": "display_data",
          "data": {
            "text/plain": "<Figure size 640x480 with 1 Axes>",
            "image/png": "[encoded data removed]"
          },
          "metadata": {}
        },
        {
          "name": "stdout",
          "text": "Preidction:[2]\nLabel:2\n",
          "output_type": "stream"
        },
        {
          "output_type": "display_data",
          "data": {
            "text/plain": "<Figure size 640x480 with 1 Axes>",
            "image/png": "[encoded data removed]"
          },
          "metadata": {}
        },
        {
          "name": "stdout",
          "text": "Preidction:[8]\nLabel:8\n",
          "output_type": "stream"
        },
        {
          "output_type": "display_data",
          "data": {
            "text/plain": "<Figure size 640x480 with 1 Axes>",
            "image/png": "[encoded data removed]"
          },
          "metadata": {}
        }
      ]
    }
  ]
}